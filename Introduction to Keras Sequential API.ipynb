{
 "cells": [
  {
   "cell_type": "markdown",
   "id": "ca238ce2",
   "metadata": {},
   "source": [
    "# Introducing the Keras Sequential API\n",
    "\n",
    "**Learning Objectives**\n",
    "  1. Build a DNN model using the Keras Sequential API\n",
    "  1. Learn how to use feature columns in a Keras model\n",
    "  1. Learn how to train a model with Keras\n",
    "  1. Learn how to save/load, and deploy a Keras model on GCP\n",
    "  1. Learn how to deploy and make predictions with at Keras model\n",
    "\n",
    "## Introduction\n",
    "\n",
    "The [Keras sequential API](https://keras.io/models/sequential/) allows you to create Tensorflow models layer-by-layer. This is useful for building most kinds of machine learning models but it does not allow you to create models that share layers, re-use layers or have multiple inputs or outputs. \n",
    "\n",
    "In this lab, we'll see how to build a simple deep neural network model using the Keras sequential api and feature columns. Once we have trained our model, we will deploy it using AI Platform and see how to call our model for online prediciton.\n",
    "\n",
    "Each learning objective will correspond to a __#TODO__ in the [student lab notebook](https://github.com/GoogleCloudPlatform/training-data-analyst/blob/master/courses/machine_learning/deepdive2/introduction_to_tensorflow/labs/3_keras_sequential_api.ipynb) -- try to complete that notebook first before reviewing this solution notebook.\n"
   ]
  },
  {
   "cell_type": "code",
   "execution_count": 1,
   "id": "924728dd",
   "metadata": {},
   "outputs": [
    {
     "name": "stdout",
     "output_type": "stream",
     "text": [
      "2.5.0\n"
     ]
    }
   ],
   "source": [
    "# Import necessary libraries\n",
    "import datetime\n",
    "import os\n",
    "import shutil # help in automating process of copying and removing of files and directories\n",
    "\n",
    "import numpy as np\n",
    "import pandas as pd\n",
    "import tensorflow as tf\n",
    "\n",
    "#Import sequential function from tf.keras.models\n",
    "from tensorflow.keras.models import Sequential\n",
    "#Import Dense and DenseFeatures from tf.keras.layers\n",
    "from tensorflow.keras.layers import Dense, DenseFeatures\n",
    "#Import Tensorboard from tf.keras.callbacks\n",
    "from tensorflow.keras.callbacks import TensorBoard\n",
    "\n",
    "print(tf.__version__)\n",
    "%matplotlib inline"
   ]
  },
  {
   "cell_type": "markdown",
   "id": "ac765959",
   "metadata": {},
   "source": [
    "## Load raw data \n",
    "\n",
    "We will use the taxifare dataset, using the CSV files that we created in the first notebook of this sequence. Those files have been saved into `../LearningGCP-Sandbox`."
   ]
  },
  {
   "cell_type": "code",
   "execution_count": 2,
   "id": "bdde49ad",
   "metadata": {},
   "outputs": [
    {
     "name": "stdout",
     "output_type": "stream",
     "text": [
      "-rw-r--r-- 1 jupyter jupyter 123590 Aug 13 16:49 taxi-test.csv\n",
      "-rw-r--r-- 1 jupyter jupyter 579055 Aug 13 17:35 taxi-train.csv\n",
      "-rw-r--r-- 1 jupyter jupyter 123114 Aug 13 17:35 taxi-valid.csv\n"
     ]
    }
   ],
   "source": [
    "# ls shows thhe working directory's contents\n",
    "!ls -l *.csv"
   ]
  },
  {
   "cell_type": "code",
   "execution_count": 3,
   "id": "45f2f2da",
   "metadata": {},
   "outputs": [
    {
     "name": "stdout",
     "output_type": "stream",
     "text": [
      "==> taxi-test.csv <==\n",
      "6.0,2013-03-27 03:35:00 UTC,-73.977672,40.784052,-73.965332,40.801025,2,0\n",
      "19.3,2012-05-10 18:43:16 UTC,-73.954366,40.778924,-74.004094,40.723104,1,1\n",
      "7.5,2014-05-20 23:09:00 UTC,-73.999165,40.738377,-74.003473,40.723862,2,2\n",
      "12.5,2015-02-23 19:51:31 UTC,-73.9652099609375,40.76948165893555,-73.98949432373047,40.739742279052734,1,3\n",
      "10.9,2011-03-19 03:32:00 UTC,-73.99259,40.742957,-73.989908,40.711053,1,4\n",
      "7.0,2012-09-18 12:51:11 UTC,-73.971195,40.751566,-73.975922,40.756361,1,5\n",
      "19.0,2014-05-20 23:09:00 UTC,-73.998392,40.74517,-73.939845,40.74908,1,6\n",
      "8.9,2012-07-18 08:46:08 UTC,-73.997638,40.756541,-73.973303,40.762019,1,7\n",
      "4.5,2010-07-11 20:39:08 UTC,-73.976738,40.751321,-73.986671,40.74883,1,8\n",
      "7.0,2013-12-12 02:16:40 UTC,-73.985024,40.767537,-73.981273,40.779302,1,9\n",
      "\n",
      "==> taxi-train.csv <==\n",
      "11.3,2011-01-28 20:42:59 UTC,-73.999022,40.739146,-73.990369,40.717866,1,0\n",
      "7.7,2011-06-27 04:28:06 UTC,-73.987443,40.729221,-73.979013,40.758641,1,1\n",
      "10.5,2011-04-03 00:54:53 UTC,-73.982539,40.735725,-73.954797,40.778388,1,2\n",
      "16.2,2009-04-10 04:11:56 UTC,-74.001945,40.740505,-73.91385,40.758559,1,3\n",
      "33.5,2014-02-24 18:22:00 UTC,-73.993372,40.753382,-73.8609,40.732897,2,4\n",
      "6.9,2011-12-10 00:25:23 UTC,-73.996237,40.721848,-73.989416,40.718052,1,5\n",
      "6.1,2012-09-01 14:30:19 UTC,-73.977048,40.758461,-73.984899,40.744693,2,6\n",
      "9.5,2012-11-08 13:28:07 UTC,-73.969402,40.757545,-73.950049,40.776079,1,7\n",
      "9.0,2014-07-15 11:37:25 UTC,-73.979318,40.760949,-73.95767,40.773724,1,8\n",
      "3.3,2009-11-09 18:06:58 UTC,-73.955675,40.779154,-73.961172,40.772368,1,9\n",
      "\n",
      "==> taxi-valid.csv <==\n",
      "5.3,2012-01-03 19:21:35 UTC,-73.962627,40.763214,-73.973485,40.753353,1,0\n",
      "25.3,2010-09-27 07:30:15 UTC,-73.965799,40.794243,-73.927134,40.852261,3,1\n",
      "27.5,2015-05-19 00:40:02 UTC,-73.86344146728516,40.76899719238281,-73.96058654785156,40.76129913330078,1,2\n",
      "5.7,2010-04-29 12:28:00 UTC,-73.989255,40.738912,-73.97558,40.749172,1,3\n",
      "11.5,2013-06-23 06:08:09 UTC,-73.99731,40.763735,-73.955657,40.768141,1,4\n",
      "18.0,2014-10-14 18:52:03 UTC,-73.997995,40.761638,-74.008985,40.712442,1,5\n",
      "4.9,2010-04-29 12:28:00 UTC,-73.977315,40.766182,-73.970845,40.761462,5,6\n",
      "32.33,2014-02-24 18:22:00 UTC,-73.985358,40.761352,-73.92427,40.699145,1,7\n",
      "17.0,2015-03-26 02:48:58 UTC,-73.93981170654297,40.846473693847656,-73.97361755371094,40.786983489990234,1,8\n",
      "12.5,2013-04-09 09:39:13 UTC,-73.977323,40.753934,-74.00719,40.741472,1,9\n"
     ]
    }
   ],
   "source": [
    "#Output the first ten rows from the file where the name having prefix 'taxi'\n",
    "!head taxi*.csv"
   ]
  },
  {
   "cell_type": "markdown",
   "id": "d2681255",
   "metadata": {},
   "source": [
    "## Use tf.data to read the CSV files\n",
    "\n",
    "We wrote these functions for reading data from the csv files above in the [previous notebook](https://github.com/GoogleCloudPlatform/training-data-analyst/blob/master/courses/machine_learning/deepdive2/introduction_to_tensorflow/labs/2_dataset_api.ipynb)."
   ]
  },
  {
   "cell_type": "code",
   "execution_count": 9,
   "id": "6a7b150e",
   "metadata": {},
   "outputs": [],
   "source": [
    "#Defining the feature names into a list called csv_columns\n",
    "\n",
    "csv_columns = [\n",
    "    'fare_amount',\n",
    "    'pickup_datetime',\n",
    "    'pickup_longitude',\n",
    "    'pickup_latitude',\n",
    "    'dropoff_longitude',\n",
    "    'dropoff_latitude',\n",
    "    'passenger_count',\n",
    "    'key'\n",
    "]\n",
    "\n",
    "label_column = 'fare_amount'\n",
    "\n",
    "#Defining the default values for each column\n",
    "defaults = [[0.0], ['na'], [0.0], [0.0], [0.0], [0.0], [0.0], ['na']]\n",
    "\n",
    "#Columns not needed and to be eliminated\n",
    "unwanted_cols = ['pickup_datetime', 'key']\n",
    "\n",
    "#Define features and labels\n",
    "def features_and_labels(row_data):\n",
    "    label = row_data.pop(label_column)\n",
    "    features = row_data\n",
    "    \n",
    "    for unwanted_col in unwanted_cols:\n",
    "        features.pop(unwanted_col)\n",
    "        \n",
    "    return features, label\n",
    "\n",
    "def create_dataset(pattern, batch_size=1, mode='eval'):\n",
    "    #tf.data.experimental.make_csv_dataset reads csv files into a dataset\n",
    "    dataset = tf.data.experimental.make_csv_dataset(pattern, batch_size, csv_columns, defaults)\n",
    "     \n",
    "    #The map function executes a specified function for each item in an iterable.\n",
    "    #The item is sent to the function as in iterable\n",
    "    dataset = dataset.map(features_and_labels)\n",
    "    \n",
    "    if mode == 'train':\n",
    "        #The shuffle method takes a sequence (list, string or tuple) and reorganize the order of the items.\n",
    "        dataset = dataset.shuffle(buffer_size=1000).repeat()\n",
    "        \n",
    "    #Take advantage of multi-threading ; 1=AUTOTUNE\n",
    "    dataset = dataset.prefetch(1)\n",
    "    return dataset"
   ]
  },
  {
   "cell_type": "markdown",
   "id": "70171e72",
   "metadata": {},
   "source": [
    "## Build a simple keras DNN model\n",
    "\n",
    "We will use feature columns to connect our raw data to our keras DNN model. Feature columns make it easy to perform common types of feature engineering on your raw data. For example, you can one-hot encode categorical data, create feature crosses, embeddings and more. We'll cover these in more detail later in the course, but if you want to a sneak peak browse the official TensorFlow [feature columns guide](https://www.tensorflow.org/guide/feature_columns).\n",
    "\n",
    "In our case we won't do any feature engineering. However, we still need to create a list of feature columns to specify the numeric values which will be passed on to our model. To do this, we use `tf.feature_column.numeric_column()`\n",
    "\n",
    "We use a python dictionary comprehension to create the feature columns for our model, which is just an elegant alternative to a for loop."
   ]
  },
  {
   "cell_type": "code",
   "execution_count": 10,
   "id": "0f2b1866",
   "metadata": {},
   "outputs": [],
   "source": [
    "# Defining the feature names into a list input_cols\n",
    "input_cols = [\n",
    "    'pickup_longitude',\n",
    "    'pickup_latitude',\n",
    "    'dropoff_longitude',\n",
    "    'dropoff_latitude',\n",
    "    'passenger_count'\n",
    "]\n",
    "\n",
    "#Create input layer of feature columns\n",
    "feature_columns = {\n",
    "    input_col : tf.feature_column.numeric_column(input_col)\n",
    "    for input_col in input_cols\n",
    "}"
   ]
  },
  {
   "cell_type": "markdown",
   "id": "fa469dcd",
   "metadata": {},
   "source": [
    "Next, we create the DNN model. The Sequential model is a linear stack of layers and when building a model using the Sequential API, you configure each layer of the model in turn. Once all the layers have been added, you compile the model. "
   ]
  },
  {
   "cell_type": "code",
   "execution_count": 11,
   "id": "b8c8b56e",
   "metadata": {},
   "outputs": [],
   "source": [
    "# Build a Keras DNN model using Sequential api\n",
    "\n",
    "model = Sequential([\n",
    "    DenseFeatures(feature_columns=feature_columns.values()),\n",
    "    Dense(units=32, activation=\"relu\", name=\"h1\"),\n",
    "    Dense(units=8, activation=\"relu\", name=\"h2\"),\n",
    "    Dense(units=1, activation=\"linear\", name=\"output\")\n",
    "])"
   ]
  },
  {
   "cell_type": "markdown",
   "id": "ff5a6c9f",
   "metadata": {},
   "source": [
    "Next, to prepare the model for training, you must configure the learning process. This is done using the compile method. The compile method takes three arguments:\n",
    "\n",
    "* An optimizer. This could be the string identifier of an existing optimizer (such as `rmsprop` or `adagrad`), or an instance of the [Optimizer class](https://www.tensorflow.org/versions/r2.0/api_docs/python/tf/keras/optimizers).\n",
    "* A loss function. This is the objective that the model will try to minimize. It can be the string identifier of an existing loss function from the [Losses class](https://www.tensorflow.org/versions/r2.0/api_docs/python/tf/keras/losses) (such as categorical_crossentropy or mse), or it can be a custom objective function.\n",
    "* A list of metrics. For any machine learning problem you will want a set of metrics to evaluate your model. A metric could be the string identifier of an existing metric or a custom metric function.\n",
    "\n",
    "We will add an additional custom metric called `rmse` to our list of metrics which will return the root mean square error. "
   ]
  },
  {
   "cell_type": "code",
   "execution_count": 12,
   "id": "77d9a555",
   "metadata": {},
   "outputs": [],
   "source": [
    "# Create a custom evaluation metrics\n",
    "def rmse(y_true, y_pred):\n",
    "    return tf.sqrt(tf.reduce_mean(tf.square(y_pred - y_true)))\n",
    "\n",
    "# Compile the keras model\n",
    "model.compile(optimizer=\"adam\",loss=\"mse\", metrics=[rmse, \"mse\"])"
   ]
  },
  {
   "cell_type": "markdown",
   "id": "554c5249",
   "metadata": {},
   "source": [
    "## Train the model\n",
    "\n",
    "To train your model, Keras provides three functions that can be used:\n",
    " 1. `.fit()` for training a model for a fixed number of epochs (iterations on a dataset).\n",
    " 2. `.fit_generator()` for training a model on data yielded batch-by-batch by a generator\n",
    " 3. `.train_on_batch()` runs a single gradient update on a single batch of data. \n",
    " \n",
    "The `.fit()` function works well for small datasets which can fit entirely in memory. However, for large datasets (or if you need to manipulate the training data on the fly via data augmentation, etc) you will need to use `.fit_generator()` instead. The `.train_on_batch()` method is for more fine-grained control over training and accepts only a single batch of data.\n",
    "\n",
    "The taxifare dataset we sampled is small enough to fit in memory, so can we could use `.fit` to train our model. Our `create_dataset` function above generates batches of training examples, so we could also use `.fit_generator`. In fact, when calling `.fit` the method inspects the data, and if it's a generator (as our dataset is) it will invoke automatically `.fit_generator` for training. \n",
    "\n",
    "We start by setting up some parameters for our training job and create the data generators for the training and validation data.\n",
    "\n",
    "We refer you the the blog post [ML Design Pattern #3: Virtual Epochs](https://medium.com/google-cloud/ml-design-pattern-3-virtual-epochs-f842296de730) for further details on why express the training in terms of `NUM_TRAIN_EXAMPLES` and `NUM_EVALS` and why, in this training code, the number of epochs is really equal to the number of evaluations we perform."
   ]
  },
  {
   "cell_type": "code",
   "execution_count": 13,
   "id": "815e8df1",
   "metadata": {},
   "outputs": [],
   "source": [
    "TRAIN_BATCH_SIZE = 1000\n",
    "NUM_TRAIN_EXAMPLES = 10000 * 5 #training dataset will repeat, wrap around\n",
    "NUM_EVALS = 50 # how many times to evaluate\n",
    "NUM_EVALS_EXAMPLES = 10000 # enough to get a reasonble sample\n",
    "\n",
    "trainds = create_dataset(\n",
    "    pattern = \"taxi-train.csv\",\n",
    "    batch_size=TRAIN_BATCH_SIZE,\n",
    "    mode='train')\n",
    "\n",
    "evalds = create_dataset(\n",
    "    pattern = \"taxi-valid.csv\",\n",
    "    batch_size=1000,\n",
    "    mode='eval').take(NUM_EVALS_EXAMPLES//1000)"
   ]
  },
  {
   "cell_type": "markdown",
   "id": "b215a61b",
   "metadata": {},
   "source": [
    "There are various arguments you can set when calling the [.fit method](https://www.tensorflow.org/versions/r2.0/api_docs/python/tf/keras/Model#fit). Here `x` specifies the input data which in our case is a `tf.data` dataset returning a tuple of (inputs, targets). The `steps_per_epoch` parameter is used to mark the end of training for a single epoch. Here we are training for NUM_EVALS epochs. Lastly, for the `callback` argument we specify a Tensorboard callback so we can inspect Tensorboard after training. "
   ]
  },
  {
   "cell_type": "code",
   "execution_count": 17,
   "id": "0fbcf969",
   "metadata": {},
   "outputs": [
    {
     "name": "stdout",
     "output_type": "stream",
     "text": [
      "Epoch 1/50\n",
      "WARNING:tensorflow:Layers in a Sequential model should only have a single input tensor, but we receive a <class 'collections.OrderedDict'> input: OrderedDict([('pickup_longitude', <tf.Tensor 'ExpandDims_4:0' shape=(1000, 1) dtype=float32>), ('pickup_latitude', <tf.Tensor 'ExpandDims_3:0' shape=(1000, 1) dtype=float32>), ('dropoff_longitude', <tf.Tensor 'ExpandDims_1:0' shape=(1000, 1) dtype=float32>), ('dropoff_latitude', <tf.Tensor 'ExpandDims:0' shape=(1000, 1) dtype=float32>), ('passenger_count', <tf.Tensor 'ExpandDims_2:0' shape=(1000, 1) dtype=float32>)])\n",
      "Consider rewriting this model with the Functional API.\n",
      "WARNING:tensorflow:Layers in a Sequential model should only have a single input tensor, but we receive a <class 'collections.OrderedDict'> input: OrderedDict([('pickup_longitude', <tf.Tensor 'ExpandDims_4:0' shape=(1000, 1) dtype=float32>), ('pickup_latitude', <tf.Tensor 'ExpandDims_3:0' shape=(1000, 1) dtype=float32>), ('dropoff_longitude', <tf.Tensor 'ExpandDims_1:0' shape=(1000, 1) dtype=float32>), ('dropoff_latitude', <tf.Tensor 'ExpandDims:0' shape=(1000, 1) dtype=float32>), ('passenger_count', <tf.Tensor 'ExpandDims_2:0' shape=(1000, 1) dtype=float32>)])\n",
      "Consider rewriting this model with the Functional API.\n",
      "1/1 [==============================] - ETA: 0s - loss: 182.8717 - rmse: 13.5230 - mse: 182.8717WARNING:tensorflow:Layers in a Sequential model should only have a single input tensor, but we receive a <class 'collections.OrderedDict'> input: OrderedDict([('pickup_longitude', <tf.Tensor 'ExpandDims_4:0' shape=(1000, 1) dtype=float32>), ('pickup_latitude', <tf.Tensor 'ExpandDims_3:0' shape=(1000, 1) dtype=float32>), ('dropoff_longitude', <tf.Tensor 'ExpandDims_1:0' shape=(1000, 1) dtype=float32>), ('dropoff_latitude', <tf.Tensor 'ExpandDims:0' shape=(1000, 1) dtype=float32>), ('passenger_count', <tf.Tensor 'ExpandDims_2:0' shape=(1000, 1) dtype=float32>)])\n",
      "Consider rewriting this model with the Functional API.\n",
      "1/1 [==============================] - 19s 19s/step - loss: 182.8717 - rmse: 13.5230 - mse: 182.8717 - val_loss: 163.3433 - val_rmse: 12.7725 - val_mse: 163.3433\n",
      "Epoch 2/50\n",
      "1/1 [==============================] - 1s 692ms/step - loss: 150.1122 - rmse: 12.2520 - mse: 150.1122 - val_loss: 149.8982 - val_rmse: 12.2394 - val_mse: 149.8982\n",
      "Epoch 3/50\n",
      "1/1 [==============================] - 1s 777ms/step - loss: 165.4942 - rmse: 12.8645 - mse: 165.4942 - val_loss: 137.8415 - val_rmse: 11.7355 - val_mse: 137.8415\n",
      "Epoch 4/50\n",
      "1/1 [==============================] - 1s 822ms/step - loss: 115.3604 - rmse: 10.7406 - mse: 115.3604 - val_loss: 127.2029 - val_rmse: 11.2689 - val_mse: 127.2029\n",
      "Epoch 5/50\n",
      "1/1 [==============================] - 1s 734ms/step - loss: 122.8530 - rmse: 11.0839 - mse: 122.8530 - val_loss: 120.6512 - val_rmse: 10.9755 - val_mse: 120.6512\n",
      "Epoch 6/50\n",
      "1/1 [==============================] - 1s 662ms/step - loss: 98.8863 - rmse: 9.9442 - mse: 98.8863 - val_loss: 116.3352 - val_rmse: 10.7665 - val_mse: 116.3352\n",
      "Epoch 7/50\n",
      "1/1 [==============================] - 1s 717ms/step - loss: 135.0057 - rmse: 11.6192 - mse: 135.0057 - val_loss: 112.5427 - val_rmse: 10.5843 - val_mse: 112.5427\n",
      "Epoch 8/50\n",
      "1/1 [==============================] - 1s 738ms/step - loss: 109.7857 - rmse: 10.4779 - mse: 109.7857 - val_loss: 109.4361 - val_rmse: 10.4462 - val_mse: 109.4361\n",
      "Epoch 9/50\n",
      "1/1 [==============================] - 2s 2s/step - loss: 86.5607 - rmse: 9.3038 - mse: 86.5607 - val_loss: 111.7393 - val_rmse: 10.5591 - val_mse: 111.7393\n",
      "Epoch 10/50\n",
      "1/1 [==============================] - 1s 738ms/step - loss: 120.3003 - rmse: 10.9681 - mse: 120.3003 - val_loss: 110.6157 - val_rmse: 10.5133 - val_mse: 110.6157\n",
      "Epoch 11/50\n",
      "1/1 [==============================] - 1s 625ms/step - loss: 107.6670 - rmse: 10.3763 - mse: 107.6670 - val_loss: 114.3516 - val_rmse: 10.6649 - val_mse: 114.3516\n",
      "Epoch 12/50\n",
      "1/1 [==============================] - 1s 721ms/step - loss: 118.8876 - rmse: 10.9036 - mse: 118.8876 - val_loss: 116.0439 - val_rmse: 10.7528 - val_mse: 116.0439\n",
      "Epoch 13/50\n",
      "1/1 [==============================] - 1s 897ms/step - loss: 86.5133 - rmse: 9.3013 - mse: 86.5133 - val_loss: 114.9769 - val_rmse: 10.7166 - val_mse: 114.9769\n",
      "Epoch 14/50\n",
      "1/1 [==============================] - 1s 700ms/step - loss: 117.5964 - rmse: 10.8442 - mse: 117.5964 - val_loss: 120.3208 - val_rmse: 10.9632 - val_mse: 120.3208\n",
      "Epoch 15/50\n",
      "1/1 [==============================] - 1s 782ms/step - loss: 128.6941 - rmse: 11.3443 - mse: 128.6941 - val_loss: 118.1610 - val_rmse: 10.8598 - val_mse: 118.1610\n",
      "Epoch 16/50\n",
      "1/1 [==============================] - 1s 820ms/step - loss: 90.6180 - rmse: 9.5194 - mse: 90.6180 - val_loss: 117.9586 - val_rmse: 10.8462 - val_mse: 117.9586\n",
      "Epoch 17/50\n",
      "1/1 [==============================] - 1s 762ms/step - loss: 95.9768 - rmse: 9.7968 - mse: 95.9768 - val_loss: 117.7678 - val_rmse: 10.8382 - val_mse: 117.7678\n",
      "Epoch 18/50\n",
      "1/1 [==============================] - 1s 682ms/step - loss: 90.0911 - rmse: 9.4916 - mse: 90.0911 - val_loss: 118.0912 - val_rmse: 10.8409 - val_mse: 118.0912\n",
      "Epoch 19/50\n",
      "1/1 [==============================] - 1s 727ms/step - loss: 94.2463 - rmse: 9.7081 - mse: 94.2463 - val_loss: 119.9165 - val_rmse: 10.8908 - val_mse: 119.9165\n",
      "Epoch 20/50\n",
      "1/1 [==============================] - 1s 636ms/step - loss: 98.3242 - rmse: 9.9159 - mse: 98.3242 - val_loss: 118.0157 - val_rmse: 10.8428 - val_mse: 118.0157\n",
      "Epoch 21/50\n",
      "1/1 [==============================] - 1s 683ms/step - loss: 122.9230 - rmse: 11.0871 - mse: 122.9230 - val_loss: 115.4518 - val_rmse: 10.7273 - val_mse: 115.4518\n",
      "Epoch 22/50\n",
      "1/1 [==============================] - 1s 770ms/step - loss: 86.6505 - rmse: 9.3086 - mse: 86.6505 - val_loss: 113.5353 - val_rmse: 10.6459 - val_mse: 113.5353\n",
      "Epoch 23/50\n",
      "1/1 [==============================] - 1s 694ms/step - loss: 78.7118 - rmse: 8.8720 - mse: 78.7118 - val_loss: 111.1045 - val_rmse: 10.5210 - val_mse: 111.1045\n",
      "Epoch 24/50\n",
      "1/1 [==============================] - 1s 790ms/step - loss: 101.6224 - rmse: 10.0808 - mse: 101.6224 - val_loss: 114.2890 - val_rmse: 10.6655 - val_mse: 114.2890\n",
      "Epoch 25/50\n",
      "1/1 [==============================] - 1s 743ms/step - loss: 89.1960 - rmse: 9.4444 - mse: 89.1960 - val_loss: 111.1267 - val_rmse: 10.5251 - val_mse: 111.1267\n",
      "Epoch 26/50\n",
      "1/1 [==============================] - 1s 700ms/step - loss: 73.0339 - rmse: 8.5460 - mse: 73.0339 - val_loss: 109.6665 - val_rmse: 10.4602 - val_mse: 109.6665\n",
      "Epoch 27/50\n",
      "1/1 [==============================] - 1s 631ms/step - loss: 96.1400 - rmse: 9.8051 - mse: 96.1400 - val_loss: 113.0447 - val_rmse: 10.6166 - val_mse: 113.0447\n",
      "Epoch 28/50\n",
      "1/1 [==============================] - 1s 670ms/step - loss: 76.6832 - rmse: 8.7569 - mse: 76.6832 - val_loss: 109.8658 - val_rmse: 10.4628 - val_mse: 109.8658\n",
      "Epoch 29/50\n",
      "1/1 [==============================] - 1s 760ms/step - loss: 93.9246 - rmse: 9.6915 - mse: 93.9246 - val_loss: 110.1062 - val_rmse: 10.4820 - val_mse: 110.1062\n",
      "Epoch 30/50\n",
      "1/1 [==============================] - 1s 548ms/step - loss: 97.7201 - rmse: 9.8853 - mse: 97.7201 - val_loss: 108.6388 - val_rmse: 10.3919 - val_mse: 108.6388\n",
      "Epoch 31/50\n",
      "1/1 [==============================] - 1s 578ms/step - loss: 137.3882 - rmse: 11.7213 - mse: 137.3882 - val_loss: 110.4815 - val_rmse: 10.5044 - val_mse: 110.4815\n",
      "Epoch 32/50\n",
      "1/1 [==============================] - 1s 728ms/step - loss: 143.0939 - rmse: 11.9622 - mse: 143.0939 - val_loss: 110.1261 - val_rmse: 10.4873 - val_mse: 110.1261\n",
      "Epoch 33/50\n",
      "1/1 [==============================] - 1s 602ms/step - loss: 116.9436 - rmse: 10.8140 - mse: 116.9436 - val_loss: 109.5773 - val_rmse: 10.4454 - val_mse: 109.5773\n",
      "Epoch 34/50\n",
      "1/1 [==============================] - 1s 770ms/step - loss: 77.4202 - rmse: 8.7989 - mse: 77.4202 - val_loss: 108.8303 - val_rmse: 10.4273 - val_mse: 108.8303\n",
      "Epoch 35/50\n",
      "1/1 [==============================] - 1s 707ms/step - loss: 94.4840 - rmse: 9.7203 - mse: 94.4840 - val_loss: 109.7408 - val_rmse: 10.4703 - val_mse: 109.7408\n",
      "Epoch 36/50\n",
      "1/1 [==============================] - 1s 747ms/step - loss: 73.6862 - rmse: 8.5841 - mse: 73.6862 - val_loss: 111.9440 - val_rmse: 10.5584 - val_mse: 111.9440\n",
      "Epoch 37/50\n",
      "1/1 [==============================] - 1s 680ms/step - loss: 157.9370 - rmse: 12.5673 - mse: 157.9370 - val_loss: 111.3343 - val_rmse: 10.5425 - val_mse: 111.3343\n",
      "Epoch 38/50\n",
      "1/1 [==============================] - 1s 714ms/step - loss: 82.5730 - rmse: 9.0870 - mse: 82.5730 - val_loss: 110.0395 - val_rmse: 10.4885 - val_mse: 110.0395\n",
      "Epoch 39/50\n",
      "1/1 [==============================] - 1s 632ms/step - loss: 108.6141 - rmse: 10.4218 - mse: 108.6141 - val_loss: 111.4976 - val_rmse: 10.5420 - val_mse: 111.4976\n",
      "Epoch 40/50\n",
      "1/1 [==============================] - 1s 781ms/step - loss: 89.0354 - rmse: 9.4359 - mse: 89.0354 - val_loss: 111.7266 - val_rmse: 10.5613 - val_mse: 111.7266\n",
      "Epoch 41/50\n",
      "1/1 [==============================] - 1s 889ms/step - loss: 64.3494 - rmse: 8.0218 - mse: 64.3494 - val_loss: 110.3263 - val_rmse: 10.4784 - val_mse: 110.3263\n",
      "Epoch 42/50\n",
      "1/1 [==============================] - 1s 695ms/step - loss: 74.5459 - rmse: 8.6340 - mse: 74.5459 - val_loss: 109.3427 - val_rmse: 10.4466 - val_mse: 109.3427\n",
      "Epoch 43/50\n",
      "1/1 [==============================] - 1s 699ms/step - loss: 84.2622 - rmse: 9.1794 - mse: 84.2622 - val_loss: 111.6643 - val_rmse: 10.5306 - val_mse: 111.6643\n",
      "Epoch 44/50\n",
      "1/1 [==============================] - 1s 580ms/step - loss: 85.1039 - rmse: 9.2252 - mse: 85.1039 - val_loss: 109.2835 - val_rmse: 10.4402 - val_mse: 109.2835\n",
      "Epoch 45/50\n",
      "1/1 [==============================] - 1s 659ms/step - loss: 89.3998 - rmse: 9.4551 - mse: 89.3998 - val_loss: 109.5640 - val_rmse: 10.4601 - val_mse: 109.5640\n",
      "Epoch 46/50\n",
      "1/1 [==============================] - 1s 798ms/step - loss: 125.0014 - rmse: 11.1804 - mse: 125.0014 - val_loss: 107.7822 - val_rmse: 10.3518 - val_mse: 107.7822\n",
      "Epoch 47/50\n",
      "1/1 [==============================] - 1s 629ms/step - loss: 113.3904 - rmse: 10.6485 - mse: 113.3904 - val_loss: 109.9531 - val_rmse: 10.4754 - val_mse: 109.9531\n",
      "Epoch 48/50\n",
      "1/1 [==============================] - 1s 588ms/step - loss: 78.9281 - rmse: 8.8841 - mse: 78.9281 - val_loss: 112.1605 - val_rmse: 10.5817 - val_mse: 112.1605\n",
      "Epoch 49/50\n",
      "1/1 [==============================] - 1s 797ms/step - loss: 97.3795 - rmse: 9.8681 - mse: 97.3795 - val_loss: 109.4639 - val_rmse: 10.4399 - val_mse: 109.4639\n",
      "Epoch 50/50\n",
      "1/1 [==============================] - 1s 912ms/step - loss: 88.9555 - rmse: 9.4316 - mse: 88.9555 - val_loss: 109.8313 - val_rmse: 10.4720 - val_mse: 109.8313\n"
     ]
    }
   ],
   "source": [
    "steps_per_epoch = NUM_TRAIN_EXAMPLES // (TRAIN_BATCH_SIZE * NUM_EVALS)\n",
    "\n",
    "LOGDIR = \"./taxi_trained\"\n",
    "\n",
    "# Train the sequential model\n",
    "history = model.fit(x=trainds,\n",
    "                   steps_per_epoch=steps_per_epoch,\n",
    "                   epochs=NUM_EVALS,\n",
    "                   callbacks=[TensorBoard(LOGDIR)],\n",
    "                   validation_data=evalds)"
   ]
  },
  {
   "cell_type": "markdown",
   "id": "0c65a4d7",
   "metadata": {},
   "source": [
    "### High-level model evaluation\n",
    "\n",
    "Once we've run data through the model, we can call `.summary()` on the model to get a high-level summary of our network. We can also plot the training and evaluation curves for the metrics we computed above. "
   ]
  },
  {
   "cell_type": "code",
   "execution_count": 18,
   "id": "1f609076",
   "metadata": {},
   "outputs": [
    {
     "name": "stdout",
     "output_type": "stream",
     "text": [
      "Model: \"sequential_1\"\n",
      "_________________________________________________________________\n",
      "Layer (type)                 Output Shape              Param #   \n",
      "=================================================================\n",
      "dense_features_1 (DenseFeatu multiple                  0         \n",
      "_________________________________________________________________\n",
      "h1 (Dense)                   multiple                  192       \n",
      "_________________________________________________________________\n",
      "h2 (Dense)                   multiple                  264       \n",
      "_________________________________________________________________\n",
      "output (Dense)               multiple                  9         \n",
      "=================================================================\n",
      "Total params: 465\n",
      "Trainable params: 465\n",
      "Non-trainable params: 0\n",
      "_________________________________________________________________\n"
     ]
    }
   ],
   "source": [
    "# The summary is a generic function used to produce result summaries of the results of various model fitting functions.\n",
    "\n",
    "model.summary()"
   ]
  },
  {
   "cell_type": "markdown",
   "id": "14ae3003",
   "metadata": {},
   "source": [
    "Running `.fit` (or `.fit_generator`) returns a History object which collects all the events recorded during training. Similar to Tensorboard, we can plot the training and validation curves for the model loss and rmse by accessing these elements of the History object."
   ]
  },
  {
   "cell_type": "code",
   "execution_count": 20,
   "id": "63072db8",
   "metadata": {},
   "outputs": [
    {
     "data": {
      "text/plain": [
       "<AxesSubplot:>"
      ]
     },
     "execution_count": 20,
     "metadata": {},
     "output_type": "execute_result"
    },
    {
     "data": {
      "image/png": "[encoded data removed]",
      "text/plain": [
       "<Figure size 432x288 with 1 Axes>"
      ]
     },
     "metadata": {
      "needs_background": "light"
     },
     "output_type": "display_data"
    }
   ],
   "source": [
    "RMSE_COLS = ['rmse', 'val_rmse']\n",
    "\n",
    "# The history object is returned from the calls to the fit() function used to train the model.\n",
    "\n",
    "# Metrics are stored in a dictionary in the history member of the object returned.\n",
    "\n",
    "pd.DataFrame(history.history)[RMSE_COLS].plot()"
   ]
  },
  {
   "cell_type": "code",
   "execution_count": 21,
   "id": "2c623ce3",
   "metadata": {},
   "outputs": [
    {
     "data": {
      "text/plain": [
       "<AxesSubplot:>"
      ]
     },
     "execution_count": 21,
     "metadata": {},
     "output_type": "execute_result"
    },
    {
     "data": {
      "image/png": "[encoded data removed]",
      "text/plain": [
       "<Figure size 432x288 with 1 Axes>"
      ]
     },
     "metadata": {
      "needs_background": "light"
     },
     "output_type": "display_data"
    }
   ],
   "source": [
    "LOSS_COLS = ['loss', 'val_loss']\n",
    "\n",
    "# The history object is returned from the calls to the fit() function used to train thhe model.\n",
    "# The metrics are stored in a dictionary in the history member of the object returned.\n",
    "\n",
    "pd.DataFrame(history.history)[LOSS_COLS].plot()"
   ]
  },
  {
   "cell_type": "markdown",
   "id": "fec08199",
   "metadata": {},
   "source": [
    "# Making predictions with our model\n",
    "\n",
    "To make predictions with our trained model, we can call the [predict method](https://www.tensorflow.org/api_docs/python/tf/keras/Model#predict), passing to it a dictionary of values. The `steps` parameter determines the total number of steps before declaring the prediction round finished. Here since we have just one example, we set `steps=1` (setting `steps=None` would also work). Note, however, that if x is a `tf.data` dataset or a dataset iterator, and steps is set to None, predict will run until the input dataset is exhausted."
   ]
  },
  {
   "cell_type": "code",
   "execution_count": 23,
   "id": "27c9aa05",
   "metadata": {},
   "outputs": [
    {
     "name": "stdout",
     "output_type": "stream",
     "text": [
      "WARNING:tensorflow:Layers in a Sequential model should only have a single input tensor, but we receive a <class 'dict'> input: {'pickup_longitude': <tf.Tensor 'ExpandDims_4:0' shape=(1, 1) dtype=float32>, 'pickup_latitude': <tf.Tensor 'ExpandDims_3:0' shape=(1, 1) dtype=float32>, 'dropoff_longitude': <tf.Tensor 'ExpandDims_1:0' shape=(1, 1) dtype=float32>, 'dropoff_latitude': <tf.Tensor 'ExpandDims:0' shape=(1, 1) dtype=float32>, 'passenger_count': <tf.Tensor 'ExpandDims_2:0' shape=(1, 1) dtype=float32>}\n",
      "Consider rewriting this model with the Functional API.\n"
     ]
    },
    {
     "data": {
      "text/plain": [
       "array([[11.007043]], dtype=float32)"
      ]
     },
     "execution_count": 23,
     "metadata": {},
     "output_type": "execute_result"
    }
   ],
   "source": [
    "# The predict() method will predict the response for model. \n",
    "# Using tf.convert_to_tensor() we will convert the given value to a Tensor. \n",
    "model.predict(x={\"pickup_longitude\": tf.convert_to_tensor([-73.982683]),\n",
    "                 \"pickup_latitude\": tf.convert_to_tensor([40.742104]),\n",
    "                 \"dropoff_longitude\": tf.convert_to_tensor([-73.983766]),\n",
    "                 \"dropoff_latitude\": tf.convert_to_tensor([40.755174]),\n",
    "                 \"passenger_count\": tf.convert_to_tensor([3.0])},\n",
    "              steps=1)"
   ]
  },
  {
   "cell_type": "markdown",
   "id": "4fbc6396",
   "metadata": {},
   "source": [
    "# Export and deploy our model\n",
    "\n",
    "Of course, making individual predictions is not realistic, because we can't expect client code to have a model object in memory. For others to use our trained model, we'll have to export our model to a file, and expect client code to instantiate the model from that exported file. \n",
    "\n",
    "We'll export the model to a TensorFlow SavedModel format. Once we have a model in this format, we have lots of ways to \"serve\" the model, from a web application, from JavaScript, from mobile applications, etc."
   ]
  },
  {
   "cell_type": "code",
   "execution_count": 25,
   "id": "5294f34f",
   "metadata": {},
   "outputs": [
    {
     "name": "stdout",
     "output_type": "stream",
     "text": [
      "WARNING:tensorflow:Layers in a Sequential model should only have a single input tensor, but we receive a <class 'collections.OrderedDict'> input: OrderedDict([('pickup_longitude', <tf.Tensor 'pickup_longitude:0' shape=(None, 1) dtype=float32>), ('pickup_latitude', <tf.Tensor 'pickup_latitude:0' shape=(None, 1) dtype=float32>), ('dropoff_longitude', <tf.Tensor 'dropoff_longitude:0' shape=(None, 1) dtype=float32>), ('dropoff_latitude', <tf.Tensor 'dropoff_latitude:0' shape=(None, 1) dtype=float32>), ('passenger_count', <tf.Tensor 'passenger_count:0' shape=(None, 1) dtype=float32>)])\n",
      "Consider rewriting this model with the Functional API.\n",
      "WARNING:tensorflow:Layers in a Sequential model should only have a single input tensor, but we receive a <class 'collections.OrderedDict'> input: OrderedDict([('pickup_longitude', <tf.Tensor 'inputs_4:0' shape=(None, 1) dtype=float32>), ('pickup_latitude', <tf.Tensor 'inputs_3:0' shape=(None, 1) dtype=float32>), ('dropoff_longitude', <tf.Tensor 'inputs_1:0' shape=(None, 1) dtype=float32>), ('dropoff_latitude', <tf.Tensor 'inputs:0' shape=(None, 1) dtype=float32>), ('passenger_count', <tf.Tensor 'inputs_2:0' shape=(None, 1) dtype=float32>)])\n",
      "Consider rewriting this model with the Functional API.\n",
      "WARNING:tensorflow:Layers in a Sequential model should only have a single input tensor, but we receive a <class 'collections.OrderedDict'> input: OrderedDict([('pickup_longitude', <tf.Tensor 'inputs_4:0' shape=(None, 1) dtype=float32>), ('pickup_latitude', <tf.Tensor 'inputs_3:0' shape=(None, 1) dtype=float32>), ('dropoff_longitude', <tf.Tensor 'inputs_1:0' shape=(None, 1) dtype=float32>), ('dropoff_latitude', <tf.Tensor 'inputs:0' shape=(None, 1) dtype=float32>), ('passenger_count', <tf.Tensor 'inputs_2:0' shape=(None, 1) dtype=float32>)])\n",
      "Consider rewriting this model with the Functional API.\n",
      "WARNING:tensorflow:Layers in a Sequential model should only have a single input tensor, but we receive a <class 'collections.OrderedDict'> input: OrderedDict([('pickup_longitude', <tf.Tensor 'pickup_longitude:0' shape=(None, 1) dtype=float32>), ('pickup_latitude', <tf.Tensor 'pickup_latitude:0' shape=(None, 1) dtype=float32>), ('dropoff_longitude', <tf.Tensor 'dropoff_longitude:0' shape=(None, 1) dtype=float32>), ('dropoff_latitude', <tf.Tensor 'dropoff_latitude:0' shape=(None, 1) dtype=float32>), ('passenger_count', <tf.Tensor 'passenger_count:0' shape=(None, 1) dtype=float32>)])\n",
      "Consider rewriting this model with the Functional API.\n",
      "WARNING:tensorflow:Layers in a Sequential model should only have a single input tensor, but we receive a <class 'collections.OrderedDict'> input: OrderedDict([('pickup_longitude', <tf.Tensor 'pickup_longitude:0' shape=(None, 1) dtype=float32>), ('pickup_latitude', <tf.Tensor 'pickup_latitude:0' shape=(None, 1) dtype=float32>), ('dropoff_longitude', <tf.Tensor 'dropoff_longitude:0' shape=(None, 1) dtype=float32>), ('dropoff_latitude', <tf.Tensor 'dropoff_latitude:0' shape=(None, 1) dtype=float32>), ('passenger_count', <tf.Tensor 'passenger_count:0' shape=(None, 1) dtype=float32>)])\n",
      "Consider rewriting this model with the Functional API.\n",
      "WARNING:tensorflow:Layers in a Sequential model should only have a single input tensor, but we receive a <class 'collections.OrderedDict'> input: OrderedDict([('pickup_longitude', <tf.Tensor 'inputs/pickup_longitude:0' shape=(None, 1) dtype=float32>), ('pickup_latitude', <tf.Tensor 'inputs/pickup_latitude:0' shape=(None, 1) dtype=float32>), ('dropoff_longitude', <tf.Tensor 'inputs/dropoff_longitude:0' shape=(None, 1) dtype=float32>), ('dropoff_latitude', <tf.Tensor 'inputs/dropoff_latitude:0' shape=(None, 1) dtype=float32>), ('passenger_count', <tf.Tensor 'inputs/passenger_count:0' shape=(None, 1) dtype=float32>)])\n",
      "Consider rewriting this model with the Functional API.\n",
      "WARNING:tensorflow:Layers in a Sequential model should only have a single input tensor, but we receive a <class 'collections.OrderedDict'> input: OrderedDict([('pickup_longitude', <tf.Tensor 'inputs/pickup_longitude:0' shape=(None, 1) dtype=float32>), ('pickup_latitude', <tf.Tensor 'inputs/pickup_latitude:0' shape=(None, 1) dtype=float32>), ('dropoff_longitude', <tf.Tensor 'inputs/dropoff_longitude:0' shape=(None, 1) dtype=float32>), ('dropoff_latitude', <tf.Tensor 'inputs/dropoff_latitude:0' shape=(None, 1) dtype=float32>), ('passenger_count', <tf.Tensor 'inputs/passenger_count:0' shape=(None, 1) dtype=float32>)])\n",
      "Consider rewriting this model with the Functional API.\n",
      "WARNING:tensorflow:Layers in a Sequential model should only have a single input tensor, but we receive a <class 'collections.OrderedDict'> input: OrderedDict([('pickup_longitude', <tf.Tensor 'pickup_longitude:0' shape=(None, 1) dtype=float32>), ('pickup_latitude', <tf.Tensor 'pickup_latitude:0' shape=(None, 1) dtype=float32>), ('dropoff_longitude', <tf.Tensor 'dropoff_longitude:0' shape=(None, 1) dtype=float32>), ('dropoff_latitude', <tf.Tensor 'dropoff_latitude:0' shape=(None, 1) dtype=float32>), ('passenger_count', <tf.Tensor 'passenger_count:0' shape=(None, 1) dtype=float32>)])\n",
      "Consider rewriting this model with the Functional API.\n",
      "WARNING:tensorflow:Layers in a Sequential model should only have a single input tensor, but we receive a <class 'collections.OrderedDict'> input: OrderedDict([('pickup_longitude', <tf.Tensor 'pickup_longitude:0' shape=(None, 1) dtype=float32>), ('pickup_latitude', <tf.Tensor 'pickup_latitude:0' shape=(None, 1) dtype=float32>), ('dropoff_longitude', <tf.Tensor 'dropoff_longitude:0' shape=(None, 1) dtype=float32>), ('dropoff_latitude', <tf.Tensor 'dropoff_latitude:0' shape=(None, 1) dtype=float32>), ('passenger_count', <tf.Tensor 'passenger_count:0' shape=(None, 1) dtype=float32>)])\n",
      "Consider rewriting this model with the Functional API.\n",
      "WARNING:tensorflow:FOR KERAS USERS: The object that you are saving contains one or more Keras models or layers. If you are loading the SavedModel with `tf.keras.models.load_model`, continue reading (otherwise, you may ignore the following instructions). Please change your code to save with `tf.keras.models.save_model` or `model.save`, and confirm that the file \"keras.metadata\" exists in the export directory. In the future, Keras will only load the SavedModels that have this file. In other words, `tf.saved_model.save` will no longer write SavedModels that can be recovered as Keras models (this will apply in TF 2.5).\n",
      "\n",
      "FOR DEVS: If you are overwriting _tracking_metadata in your class, this property has been used to save metadata in the SavedModel. The metadta field will be deprecated soon, so please move the metadata to a different file.\n",
      "INFO:tensorflow:Assets written to: ./export/savedmodel/20210815193840/assets\n"
     ]
    }
   ],
   "source": [
    "OUTPUT_DIR = \"./export/savedmodel\"\n",
    "shutil.rmtree(OUTPUT_DIR,ignore_errors=True)\n",
    "\n",
    "# The join method takes all items in an iterable and joins them into one string.\n",
    "\n",
    "EXPORT_PATH = os.path.join(OUTPUT_DIR,\n",
    "                          datetime.datetime.now().strftime(\"%Y%m%d%H%M%S\"))\n",
    "tf.saved_model.save(model, EXPORT_PATH) # with default serving function"
   ]
  },
  {
   "cell_type": "code",
   "execution_count": 26,
   "id": "54766f72",
   "metadata": {},
   "outputs": [
    {
     "name": "stdout",
     "output_type": "stream",
     "text": [
      "The given SavedModel SignatureDef contains the following input(s):\n",
      "  inputs['dropoff_latitude'] tensor_info:\n",
      "      dtype: DT_FLOAT\n",
      "      shape: (-1, 1)\n",
      "      name: serving_default_dropoff_latitude:0\n",
      "  inputs['dropoff_longitude'] tensor_info:\n",
      "      dtype: DT_FLOAT\n",
      "      shape: (-1, 1)\n",
      "      name: serving_default_dropoff_longitude:0\n",
      "  inputs['passenger_count'] tensor_info:\n",
      "      dtype: DT_FLOAT\n",
      "      shape: (-1, 1)\n",
      "      name: serving_default_passenger_count:0\n",
      "  inputs['pickup_latitude'] tensor_info:\n",
      "      dtype: DT_FLOAT\n",
      "      shape: (-1, 1)\n",
      "      name: serving_default_pickup_latitude:0\n",
      "  inputs['pickup_longitude'] tensor_info:\n",
      "      dtype: DT_FLOAT\n",
      "      shape: (-1, 1)\n",
      "      name: serving_default_pickup_longitude:0\n",
      "The given SavedModel SignatureDef contains the following output(s):\n",
      "  outputs['output_1'] tensor_info:\n",
      "      dtype: DT_FLOAT\n",
      "      shape: (-1, 1)\n",
      "      name: StatefulPartitionedCall:0\n",
      "Method name is: tensorflow/serving/predict\n",
      "./export/savedmodel/20210815193840\n",
      "./export/savedmodel/20210815193840/assets\n",
      "./export/savedmodel/20210815193840/saved_model.pb\n",
      "./export/savedmodel/20210815193840/variables\n",
      "./export/savedmodel/20210815193840/variables/variables.data-00000-of-00001\n",
      "./export/savedmodel/20210815193840/variables/variables.index\n"
     ]
    }
   ],
   "source": [
    "# Export the model to a TensorFlow SavedModel format\n",
    "\n",
    "!saved_model_cli show \\\n",
    " --tag_set serve \\\n",
    " --signature_def serving_default \\\n",
    " --dir {EXPORT_PATH}\n",
    "!find {EXPORT_PATH}\n",
    "os.environ['EXPORT_PATH'] = EXPORT_PATH"
   ]
  },
  {
   "cell_type": "markdown",
   "id": "3e87a6df",
   "metadata": {},
   "source": [
    "### Deploy our model to AI Platform\n",
    "\n",
    "Finally, we will deploy our trained model to AI Platform and see how we can make online predicitons. "
   ]
  },
  {
   "cell_type": "code",
   "execution_count": 42,
   "id": "5dd97301",
   "metadata": {},
   "outputs": [
    {
     "name": "stderr",
     "output_type": "stream",
     "text": [
      "Updated property [compute/region].\n"
     ]
    }
   ],
   "source": [
    "%%bash\n",
    "gcloud config set compute/region us-east1"
   ]
  },
  {
   "cell_type": "code",
   "execution_count": null,
   "id": "b7f3ffe4",
   "metadata": {},
   "outputs": [],
   "source": [
    "%%bash\n",
    "\n",
    "\n",
    "PROJECT= modeldeployment-320713\n",
    "BUCKET=${PROJECT}\n",
    "REGION=us-east1\n",
    "MODEL_NAME=taxifare\n",
    "VERSION_NAME=dnn\n",
    "\n",
    "# Create GCS bucket if it doesn't exist already...\n",
    "exists=$(gsutil ls -d | grep -w gs://${BUCKET}/)\n",
    "\n",
    "if [ -n \"$exists\" ]; then\n",
    "    echo -e \"Bucket exists, let's not recreate it.\"\n",
    "else\n",
    "    echo \"Creating a new GCS bucket.\"\n",
    "    gsutil mb -l ${REGION} gs://${BUCKET}\n",
    "    echo \"Here are your current buckets:\"\n",
    "    gsutil ls\n",
    "fi\n",
    "\n",
    "if [[ $(gcloud ai-platform models list --format='value(name)' --region=$REGION | grep $MODEL_NAME) ]]; then\n",
    "    echo \"$MODEL_NAME already exists\"\n",
    "else\n",
    "    echo \"Creating $MODEL_NAME\"\n",
    "    gcloud ai-platform models create --region=$REGION $MODEL_NAME\n",
    "fi\n",
    "\n",
    "if [[ $(gcloud ai-platform versions list --model $MODEL_NAME --region=$REGION --format='value(name)' | grep $VERSION_NAME) ]]; then\n",
    "    echo \"Deleting already existing $MODEL_NAME:$VERSION_NAME ... \"\n",
    "    echo yes | gcloud ai-platform versions delete --model=$MODEL_NAME $VERSION_NAME --region=$REGION\n",
    "    echo \"Please run this cell again if you don't see a Creating message ... \"\n",
    "    sleep 2\n",
    "fi\n",
    "\n",
    "echo \"Creating $MODEL_NAME:$VERSION_NAME\"\n",
    "gcloud ai-platform versions create --model=$MODEL_NAME $VERSION_NAME \\\n",
    "       --framework=tensorflow --python-version=3.7 --runtime-version=2.1 \\\n",
    "       --origin=$EXPORT_PATH --staging-bucket=gs://$BUCKET --region=$REGION"
   ]
  },
  {
   "cell_type": "code",
   "execution_count": null,
   "id": "0594fee3",
   "metadata": {},
   "outputs": [],
   "source": []
  }
 ],
 "metadata": {
  "environment": {
   "name": "tf2-gpu.2-5.m76",
   "type": "gcloud",
   "uri": "gcr.io/deeplearning-platform-release/tf2-gpu.2-5:m76"
  },
  "kernelspec": {
   "display_name": "Python 3",
   "language": "python",
   "name": "python3"
  },
  "language_info": {
   "codemirror_mode": {
    "name": "ipython",
    "version": 3
   },
   "file_extension": ".py",
   "mimetype": "text/x-python",
   "name": "python",
   "nbconvert_exporter": "python",
   "pygments_lexer": "ipython3",
   "version": "3.7.10"
  }
 },
 "nbformat": 4,
 "nbformat_minor": 5
}
